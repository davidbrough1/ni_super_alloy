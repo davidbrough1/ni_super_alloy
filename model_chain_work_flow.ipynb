{
 "cells": [
  {
   "cell_type": "markdown",
   "metadata": {},
   "source": [
    "# Ni Super Alloy Design Workflow\n",
    "\n"
   ]
  },
  {
   "cell_type": "code",
   "execution_count": 1,
   "metadata": {
    "collapsed": false
   },
   "outputs": [],
   "source": [
    "import numpy as np\n",
    "from xml_io import load_variables\n",
    "from xml_io import save_variables\n",
    "import time"
   ]
  },
  {
   "cell_type": "markdown",
   "metadata": {},
   "source": [
    "## Precipiations Kinetics Model"
   ]
  },
  {
   "cell_type": "markdown",
   "metadata": {},
   "source": [
    "### Load input variables"
   ]
  },
  {
   "cell_type": "code",
   "execution_count": 4,
   "metadata": {
    "collapsed": false
   },
   "outputs": [
    {
     "name": "stdout",
     "output_type": "stream",
     "text": [
      "0\n",
      "1\n",
      "0\n",
      "3\n"
     ]
    },
    {
     "ename": "TypeError",
     "evalue": "string indices must be integers",
     "output_type": "error",
     "traceback": [
      "\u001b[1;31m---------------------------------------------------------------------------\u001b[0m",
      "\u001b[1;31mTypeError\u001b[0m                                 Traceback (most recent call last)",
      "\u001b[1;32m<ipython-input-4-d339663fbf01>\u001b[0m in \u001b[0;36m<module>\u001b[1;34m()\u001b[0m\n\u001b[0;32m     42\u001b[0m gen, n_samples, start_samples, n_variables = load_variables(thermo_input_xml_file_path,\n\u001b[0;32m     43\u001b[0m                                                             \u001b[0mthermo_input_file_key\u001b[0m\u001b[1;33m,\u001b[0m\u001b[1;33m\u001b[0m\u001b[0m\n\u001b[1;32m---> 44\u001b[1;33m                                                             thermo_value_keys)  \n\u001b[0m",
      "\u001b[1;32m/home/david/git/ni_super_alloy/xml_io.pyc\u001b[0m in \u001b[0;36mload_variables\u001b[1;34m(xml_file_path, file_key, value_keys)\u001b[0m\n\u001b[0;32m      9\u001b[0m     \u001b[1;32mwith\u001b[0m \u001b[0mopen\u001b[0m\u001b[1;33m(\u001b[0m\u001b[0mxml_file_path\u001b[0m\u001b[1;33m)\u001b[0m \u001b[1;32mas\u001b[0m \u001b[0minpread\u001b[0m\u001b[1;33m:\u001b[0m\u001b[1;33m\u001b[0m\u001b[0m\n\u001b[0;32m     10\u001b[0m         \u001b[0m_f\u001b[0m \u001b[1;33m=\u001b[0m \u001b[0mxmltodict\u001b[0m\u001b[1;33m.\u001b[0m\u001b[0mparse\u001b[0m\u001b[1;33m(\u001b[0m\u001b[0minpread\u001b[0m\u001b[1;33m.\u001b[0m\u001b[0mread\u001b[0m\u001b[1;33m(\u001b[0m\u001b[1;33m)\u001b[0m\u001b[1;33m)\u001b[0m\u001b[1;33m\u001b[0m\u001b[0m\n\u001b[1;32m---> 11\u001b[1;33m     \u001b[1;32mprint\u001b[0m \u001b[0mtuple\u001b[0m\u001b[1;33m(\u001b[0m\u001b[1;33m[\u001b[0m\u001b[0m_f\u001b[0m\u001b[1;33m[\u001b[0m\u001b[0mfile_key\u001b[0m\u001b[1;33m]\u001b[0m\u001b[1;33m[\u001b[0m\u001b[0mv\u001b[0m\u001b[1;33m]\u001b[0m\u001b[1;33m[\u001b[0m\u001b[1;34m'value'\u001b[0m\u001b[1;33m]\u001b[0m \u001b[1;32mfor\u001b[0m \u001b[0mv\u001b[0m \u001b[1;32min\u001b[0m \u001b[0mvalue_keys\u001b[0m\u001b[1;33m]\u001b[0m\u001b[1;33m)\u001b[0m\u001b[1;33m\u001b[0m\u001b[0m\n\u001b[0m\u001b[0;32m     12\u001b[0m     \u001b[1;32mreturn\u001b[0m \u001b[0mtuple\u001b[0m\u001b[1;33m(\u001b[0m\u001b[1;33m[\u001b[0m\u001b[0mfloat\u001b[0m\u001b[1;33m(\u001b[0m\u001b[0m_f\u001b[0m\u001b[1;33m[\u001b[0m\u001b[0mfile_key\u001b[0m\u001b[1;33m]\u001b[0m\u001b[1;33m[\u001b[0m\u001b[0mv\u001b[0m\u001b[1;33m]\u001b[0m\u001b[1;33m[\u001b[0m\u001b[1;34m'value'\u001b[0m\u001b[1;33m]\u001b[0m\u001b[1;33m)\u001b[0m \u001b[1;32mfor\u001b[0m \u001b[0mv\u001b[0m \u001b[1;32min\u001b[0m \u001b[0mvalue_keys\u001b[0m\u001b[1;33m]\u001b[0m\u001b[1;33m)\u001b[0m\u001b[1;33m\u001b[0m\u001b[0m\n\u001b[0;32m     13\u001b[0m \u001b[1;33m\u001b[0m\u001b[0m\n",
      "\u001b[1;31mTypeError\u001b[0m: string indices must be integers"
     ]
    }
   ],
   "source": [
    "# def load_input_parameters():\n",
    "import xmltodict\n",
    "\n",
    "GA_select = []\n",
    "with open('xmls/GA_select.xml') as inpread:\n",
    "\tGA_select = xmltodict.parse(inpread.read())\n",
    "\n",
    "gen = int(GA_select['ngcInputs']['noGeneration'])\n",
    "n_samples = int(GA_select['ngcInputs']['noSamples'])\n",
    "start_samples = int(GA_select['ngcInputs']['startSamples'])\n",
    "\n",
    "n_variables = len(GA_select['ngcInputs']['variables']['value'])\n",
    "\n",
    "\n",
    "print gen\n",
    "print n_samples\n",
    "print start_samples\n",
    "print n_variables\n",
    "# variables = []\n",
    "\n",
    "# GA_inputs = []\n",
    "# with open('GA_inputs.xml') as inpread:\n",
    "#         GA_inputs = xmltodict.parse(inpread.read())\n",
    "\n",
    "# input_xml_ID = str(GA_inputs['gaInputs']['iD'])\n",
    "# Search_domain = [['' for x in xrange(2)] for j in range(no_variables)]\n",
    "# for i in range(0,no_variables):\n",
    "# \tSearch_domain[i][0] = GA_inputs['gaInputs']['searchDomain']['variable'][i]  # number after ['item']\n",
    "# \tSearch_domain[i][1] = GA_inputs['gaInputs']['searchDomain']['unit'][i]\n",
    "\n",
    "\n",
    "# for i in range (no_variables):\n",
    "# \tvariables.append(float(GA_select['ngcInputs']['variables']['value'][i]))\n",
    "\n",
    "# no_variables = no_variables/no_samples\n",
    "\n",
    "# T_service = float(GA_select['ngcInputs']['serviceTemperature']['value'])\n",
    "\n",
    "thermo_input_xml_file_path = 'xmls/GA_select.xml'\n",
    "thermo_input_file_key = 'ngcInputs'\n",
    "thermo_value_keys = ['noGeneration', 'noSamples', 'startSamples']\n",
    "gen, n_samples, start_samples, n_variables = load_variables(thermo_input_xml_file_path,\n",
    "                                                            thermo_input_file_key,\n",
    "                                                            thermo_value_keys)  \n"
   ]
  },
  {
   "cell_type": "markdown",
   "metadata": {},
   "source": [
    "## Elastic Deformation Model\n",
    "\n",
    "### Load Input Variables"
   ]
  },
  {
   "cell_type": "code",
   "execution_count": 3,
   "metadata": {
    "collapsed": true
   },
   "outputs": [],
   "source": [
    "pymks_input_xml_file_path = 'xmls/Kinetics.xml'\n",
    "pymks_input_file_key = 'kinetics'\n",
    "pymks_value_keys = ['volumeFraction', 'averageRadius', 'serviceTemperature']\n",
    "vf, ra, T_service = load_variables(pymks_input_xml_file_path,\n",
    "                                   pymks_input_file_key, pymks_value_keys)"
   ]
  },
  {
   "cell_type": "markdown",
   "metadata": {},
   "source": [
    "### Find Optimal Radius"
   ]
  },
  {
   "cell_type": "code",
   "execution_count": 4,
   "metadata": {
    "collapsed": false
   },
   "outputs": [
    {
     "name": "stdout",
     "output_type": "stream",
     "text": [
      "PyMKS: Mon Mar  7 16:09:34 2016\n",
      "90991.4140431\n"
     ]
    }
   ],
   "source": [
    "from pymks_elasticity import pymks_elasticity\n",
    "\n",
    "Elasticity = np.array([0], dtype=float)\n",
    "\n",
    "print \"PyMKS:\", time.asctime(time.localtime(time.time()))\n",
    "Elasticity = pymks_elasticity(vf, ra, T_service, 1)\n",
    "print Elasticity"
   ]
  },
  {
   "cell_type": "markdown",
   "metadata": {},
   "source": [
    "### Save Output Variables"
   ]
  },
  {
   "cell_type": "code",
   "execution_count": 5,
   "metadata": {
    "collapsed": true
   },
   "outputs": [],
   "source": [
    "output_MKS= []\n",
    "output_MKS.append(('optimumVolumeFraction', vf, '%'))\n",
    "output_MKS.append(('optimumRadius', ra, 'meter'))\n",
    "output_MKS.append(('youngsModulus', Elasticity, 'MPa'))\n",
    "\n",
    "save_variables('PyMKS.xml', 'pyMks', output_MKS)"
   ]
  },
  {
   "cell_type": "markdown",
   "metadata": {},
   "source": [
    "## Plastic Deformation Model"
   ]
  },
  {
   "cell_type": "markdown",
   "metadata": {},
   "source": [
    "### Load Input Variables"
   ]
  },
  {
   "cell_type": "code",
   "execution_count": 6,
   "metadata": {
    "collapsed": true
   },
   "outputs": [],
   "source": [
    "plasticty_input_xml_file_path = 'xmls/Kinetics.xml'\n",
    "plasticty_input_file_key = 'kinetics'\n",
    "plasticty_value_keys = ['volumeFraction', 'averageRadius', 'serviceTemperature',\n",
    "                    'precipitateStress', 'solidSolutionStress']\n",
    "vf, ra, T_service, prec_stress, SS_stress = load_variables(plasticty_input_xml_file_path,\n",
    "                                                           plasticty_input_file_key,\n",
    "                                                           plasticty_value_keys)\n",
    "youngs_modulus = load_variables('xmls/PyMKS.xml', 'pyMks', ['youngsModulus'])\n"
   ]
  },
  {
   "cell_type": "markdown",
   "metadata": {},
   "source": [
    "### Compute Stress-Strain Curve and $E_{WTN}$"
   ]
  },
  {
   "cell_type": "code",
   "execution_count": 8,
   "metadata": {
    "collapsed": false
   },
   "outputs": [
    {
     "name": "stdout",
     "output_type": "stream",
     "text": [
      " Irreversible: Mon Mar  7 16:09:50 2016\n",
      "UTS, MPa:  9.57454264683   Strain_UTS, %: 459.089679807    Work to Necking: 39.5751595155\n"
     ]
    }
   ],
   "source": [
    "from plastic_deformation import stress_strain\n",
    "\n",
    "stress_strain, work_to_necking = stress_strain(youngs_modulus, vf, prec_stress,\n",
    "                                               SS_stress, T_service)\n",
    "\n",
    "print 'UTS, MPa: ', stress_strain[-1, 0], '  Strain_UTS, %:', \\\n",
    "      stress_strain[-1, 1], '   Work to Necking:', work_to_necking"
   ]
  },
  {
   "cell_type": "code",
   "execution_count": null,
   "metadata": {
    "collapsed": true
   },
   "outputs": [],
   "source": []
  }
 ],
 "metadata": {
  "kernelspec": {
   "display_name": "Python 2",
   "language": "python",
   "name": "python2"
  },
  "language_info": {
   "codemirror_mode": {
    "name": "ipython",
    "version": 2
   },
   "file_extension": ".py",
   "mimetype": "text/x-python",
   "name": "python",
   "nbconvert_exporter": "python",
   "pygments_lexer": "ipython2",
   "version": "2.7.11"
  }
 },
 "nbformat": 4,
 "nbformat_minor": 0
}
